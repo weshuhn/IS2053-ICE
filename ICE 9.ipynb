{
 "cells": [
  {
   "cell_type": "markdown",
   "metadata": {},
   "source": [
    "# 🐍 ICE 9: Error Handling with `try / except`"
   ]
  },
  {
   "cell_type": "markdown",
   "metadata": {},
   "source": [
    "## Exercise 1\n",
    "\n",
    "**Task:**\n",
    "- Assume you have a predefined list of fruits: [\"apple\", \"banana\",\n",
    "\"cherry\"].\n",
    "- Your task is to write a program that asks the user to enter the index\n",
    "number of the fruit they want, such as 0 for \"apple\", 1 for \"banana\", or\n",
    "2 for \"cherry\".\n",
    "- The program should then print the name of the fruit at the chosen\n",
    "index.\n",
    "- To make the program more robust, you should use a `try/except` block\n",
    "to handle possible errors.\n",
    "- Specifically, you need to handle the case when the user enters\n",
    "something that is not a number (which would cause a `ValueError`)\n",
    "and when the user enters a number that is outside the valid range of\n",
    "indices for the list (which would cause an `IndexError`).\n",
    "- The program should print a friendly error message in both cases\n",
    "#without crashing."
   ]
  },
  {
   "cell_type": "code",
   "execution_count": null,
   "metadata": {},
   "outputs": [],
   "source": [
    "\n",
    "\n"
   ]
  },
  {
   "cell_type": "markdown",
   "metadata": {},
   "source": [
    "## Exercise 2\n",
    "\n",
    "**Task:**\n",
    "Implement function `calculator_division()` that divides 2 numbers with `try/except` for a) handling error when user enters something that’s not a number (`ValueError`) and b) when user tries to divide by zero (`ZeroDivisionError`).\n"
   ]
  },
  {
   "cell_type": "code",
   "execution_count": null,
   "metadata": {},
   "outputs": [],
   "source": []
  }
 ],
 "metadata": {
  "kernelspec": {
   "display_name": "base",
   "language": "python",
   "name": "python3"
  },
  "language_info": {
   "codemirror_mode": {
    "name": "ipython",
    "version": 3
   },
   "file_extension": ".py",
   "mimetype": "text/x-python",
   "name": "python",
   "nbconvert_exporter": "python",
   "pygments_lexer": "ipython3",
   "version": "3.9.18"
  }
 },
 "nbformat": 4,
 "nbformat_minor": 2
}
