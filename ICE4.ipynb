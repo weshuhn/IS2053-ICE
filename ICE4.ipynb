{
 "cells": [
  {
   "cell_type": "markdown",
   "id": "5a62ff7c",
   "metadata": {},
   "source": [
    "# 🐍 ICE 4: Repetition Structures"
   ]
  },
  {
   "cell_type": "markdown",
   "id": "f582ee29",
   "metadata": {},
   "source": [
    "### Exercise 1: Counting Down (For Loop)\n",
    "\n",
    "Write a program that counts down from 10 to 1, then prints 'Blastoff!'"
   ]
  },
  {
   "cell_type": "code",
   "execution_count": 8,
   "id": "00bd6374",
   "metadata": {},
   "outputs": [
    {
     "name": "stdout",
     "output_type": "stream",
     "text": [
      "10\n",
      "9\n",
      "8\n",
      "7\n",
      "6\n",
      "5\n",
      "4\n",
      "3\n",
      "2\n",
      "1\n",
      "Blastoff!\n"
     ]
    }
   ],
   "source": [
    "# Loop\n",
    "for i in range(10,0, -1):\n",
    "    print(i)\n",
    "print(\"Blastoff!\")"
   ]
  },
  {
   "cell_type": "markdown",
   "id": "ae003e24",
   "metadata": {},
   "source": [
    "### Exercise 2: Counting from 1 to N (For Loop)\n",
    "\n",
    "Write a program that asks the user for a number N and then prints numbers from 1 to N."
   ]
  },
  {
   "cell_type": "code",
   "execution_count": 11,
   "id": "76ee30fa",
   "metadata": {},
   "outputs": [
    {
     "name": "stdout",
     "output_type": "stream",
     "text": [
      "0\n",
      "1\n",
      "2\n",
      "3\n",
      "4\n",
      "5\n",
      "6\n",
      "7\n",
      "8\n",
      "9\n",
      "10\n",
      "11\n",
      "12\n",
      "13\n",
      "14\n",
      "15\n",
      "16\n",
      "17\n",
      "18\n",
      "19\n",
      "20\n",
      "21\n",
      "22\n",
      "23\n",
      "24\n",
      "25\n",
      "26\n",
      "27\n",
      "28\n",
      "29\n"
     ]
    }
   ],
   "source": [
    "# var\n",
    "number = int( input(\"Number?\"))\n",
    "# Loop\n",
    "for i in range(0,number):\n",
    "    print(i)"
   ]
  },
  {
   "cell_type": "markdown",
   "id": "1e107460",
   "metadata": {},
   "source": [
    "### Exercise 3: Sum of Numbers (While Loop & Running Total)\n",
    "\n",
    "Write a program that keeps asking the user for numbers until they enter 0. Then, print the sum of all entered numbers."
   ]
  },
  {
   "cell_type": "code",
   "execution_count": 13,
   "id": "3e19e122",
   "metadata": {},
   "outputs": [
    {
     "name": "stdout",
     "output_type": "stream",
     "text": [
      "Sum of all numbers: 123148\n"
     ]
    }
   ],
   "source": [
    "# Var\n",
    "choice=-1\n",
    "total=0\n",
    "# Loop\n",
    "while (choice != 0):\n",
    "    choice= int( input(\"Number?\"))\n",
    "    total+=choice\n",
    "print(\"Sum of all numbers: \"+str(total))"
   ]
  },
  {
   "cell_type": "markdown",
   "id": "bd0fbfe1",
   "metadata": {},
   "source": [
    "### Exercise 4: Even or Odd (While Loop & Input Validation)\n",
    "\n",
    "Write a program that asks the user for a positive number. If the number is negative, keep asking. Then, print whether it is even or odd."
   ]
  },
  {
   "cell_type": "code",
   "execution_count": 20,
   "id": "7aecf4e5",
   "metadata": {},
   "outputs": [
    {
     "name": "stdout",
     "output_type": "stream",
     "text": [
      "even\n"
     ]
    }
   ],
   "source": [
    "# Var\n",
    "number=-1\n",
    "# Loop\n",
    "while (number < 0):\n",
    "    number=int(input(\"Input? \"))\n",
    "    if (number % 2 == 0):\n",
    "        print(\"even\")\n",
    "    elif (number < 0 ):\n",
    "        print(\"Negtive\")\n",
    "    else:\n",
    "        print(\"odd\")"
   ]
  },
  {
   "cell_type": "markdown",
   "id": "e37d4753",
   "metadata": {},
   "source": [
    "### Exercise 5: Simple Multiplication Table (For Loop)\n",
    "\n",
    "Write a program that asks for a number and prints its multiplication table up to 10."
   ]
  },
  {
   "cell_type": "code",
   "execution_count": 22,
   "id": "f978ba37",
   "metadata": {},
   "outputs": [
    {
     "name": "stdout",
     "output_type": "stream",
     "text": [
      "123 x 1 = 123\n",
      "123 x 2 = 246\n",
      "123 x 3 = 369\n",
      "123 x 4 = 492\n",
      "123 x 5 = 615\n",
      "123 x 6 = 738\n",
      "123 x 7 = 861\n",
      "123 x 8 = 984\n",
      "123 x 9 = 1107\n",
      "123 x 10 = 1230\n"
     ]
    }
   ],
   "source": [
    "# Var\n",
    "number= int(input(\"Enter: \"))\n",
    "# Print\n",
    "for i in range(1,11):\n",
    "    print(str(number)+\" x \"+ str(i)+\" = \"+str(number*i))"
   ]
  },
  {
   "cell_type": "markdown",
   "id": "d3b90601",
   "metadata": {},
   "source": [
    "### Exercise 6: Password Validator (While Loop & Input Validation)\n",
    "\n",
    "Write a program that keeps asking for a password until the user enters 'python123'."
   ]
  },
  {
   "cell_type": "code",
   "execution_count": 23,
   "id": "d4e8d963",
   "metadata": {},
   "outputs": [],
   "source": [
    "# Var\n",
    "password=None\n",
    "#Loop\n",
    "while (password != 'python123'):\n",
    "    password=input(\"Password? \")"
   ]
  },
  {
   "cell_type": "markdown",
   "id": "b1bd41fc",
   "metadata": {},
   "source": [
    "### Exercise 7: Even or Odd in a List (For Loop)\n",
    "\n",
    "Write a program that iterates through a list of numbers [1,2,3,4,5,6,7,8,9,10] and prints whether each number is even or odd."
   ]
  },
  {
   "cell_type": "code",
   "execution_count": 24,
   "id": "ca5bf5f4",
   "metadata": {},
   "outputs": [
    {
     "name": "stdout",
     "output_type": "stream",
     "text": [
      "Odd: 1\n",
      "Even: 2\n",
      "Odd: 3\n",
      "Even: 4\n",
      "Odd: 5\n",
      "Even: 6\n",
      "Odd: 7\n",
      "Even: 8\n",
      "Odd: 9\n",
      "Even: 10\n"
     ]
    }
   ],
   "source": [
    "numbers = [1,2,3,4,5,6,7,8,9,10] # this is how we create a list in python\n",
    "# loop\n",
    "for i in numbers:\n",
    "    if (i % 2 == 0):\n",
    "        print(\"Even: \" +str(i))\n",
    "    else:\n",
    "        print(\"Odd: \"+str(i))"
   ]
  },
  {
   "cell_type": "markdown",
   "id": "91201366",
   "metadata": {},
   "source": [
    "### Exercise 8: Nested Loops - Multiplication Table\n",
    "\n",
    "Write a program that prints a multiplication table (1-5) using nested loops."
   ]
  },
  {
   "cell_type": "code",
   "execution_count": 26,
   "id": "55aafdaa",
   "metadata": {},
   "outputs": [
    {
     "name": "stdout",
     "output_type": "stream",
     "text": [
      "0 x 0 = 0\n",
      "0 x 1 = 0\n",
      "0 x 2 = 0\n",
      "0 x 3 = 0\n",
      "0 x 4 = 0\n",
      "0 x 5 = 0\n",
      "1 x 0 = 0\n",
      "1 x 1 = 1\n",
      "1 x 2 = 2\n",
      "1 x 3 = 3\n",
      "1 x 4 = 4\n",
      "1 x 5 = 5\n",
      "2 x 0 = 0\n",
      "2 x 1 = 2\n",
      "2 x 2 = 4\n",
      "2 x 3 = 6\n",
      "2 x 4 = 8\n",
      "2 x 5 = 10\n",
      "3 x 0 = 0\n",
      "3 x 1 = 3\n",
      "3 x 2 = 6\n",
      "3 x 3 = 9\n",
      "3 x 4 = 12\n",
      "3 x 5 = 15\n",
      "4 x 0 = 0\n",
      "4 x 1 = 4\n",
      "4 x 2 = 8\n",
      "4 x 3 = 12\n",
      "4 x 4 = 16\n",
      "4 x 5 = 20\n",
      "5 x 0 = 0\n",
      "5 x 1 = 5\n",
      "5 x 2 = 10\n",
      "5 x 3 = 15\n",
      "5 x 4 = 20\n",
      "5 x 5 = 25\n"
     ]
    }
   ],
   "source": [
    "# Loops\n",
    "for i in range(6):\n",
    "    for j in range(6):\n",
    "        print(str(i) + \" x \"+str(j)+\" = \"+str(i*j))"
   ]
  }
 ],
 "metadata": {
  "kernelspec": {
   "display_name": "Python 3",
   "language": "python",
   "name": "python3"
  },
  "language_info": {
   "codemirror_mode": {
    "name": "ipython",
    "version": 3
   },
   "file_extension": ".py",
   "mimetype": "text/x-python",
   "name": "python",
   "nbconvert_exporter": "python",
   "pygments_lexer": "ipython3",
   "version": "3.12.9"
  }
 },
 "nbformat": 4,
 "nbformat_minor": 5
}
