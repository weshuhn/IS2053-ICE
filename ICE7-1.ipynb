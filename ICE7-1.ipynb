{
 "cells": [
  {
   "cell_type": "markdown",
   "id": "b2cfd4ce",
   "metadata": {},
   "source": [
    "# 🐍 ICE 7 – Working with Lists in Python\n",
    "\n",
    "In this in-class exercise, we'll explore the core functionality of **lists** in Python.\n",
    "You’ll practice:\n",
    "- Creating lists\n",
    "- Indexing and slicing\n",
    "- Using loops with lists\n",
    "- Applying list methods and built-in functions\n",
    "- Writing list comprehensions\n"
   ]
  },
  {
   "cell_type": "markdown",
   "id": "c94c047c",
   "metadata": {},
   "source": [
    "### Exercise 1: Creating and Printing Lists\n",
    "Create the following three lists:\n",
    "- A list of fruits: `\"apple\"`, `\"banana\"`, `\"cherry\"`\n",
    "- A list of numbers: `10, 20, 30, 40, 50`\n",
    "- A mixed list: `\"hello\"`, `3.14`, `42`, `True`\n",
    "\n",
    "Print each list using the `print()` function.\n"
   ]
  },
  {
   "cell_type": "code",
   "execution_count": null,
   "id": "fa5a56e4",
   "metadata": {},
   "outputs": [],
   "source": []
  },
  {
   "cell_type": "markdown",
   "id": "388e6e4d",
   "metadata": {},
   "source": [
    "### Exercise 2: Indexing and Slicing\n",
    "Use indexing and slicing to:\n",
    "- Print the first fruit\n",
    "- Print the last number\n",
    "- Print a slice of the `numbers` list from the second to the fourth item\n"
   ]
  },
  {
   "cell_type": "code",
   "execution_count": null,
   "id": "d0d85286",
   "metadata": {},
   "outputs": [],
   "source": []
  },
  {
   "cell_type": "markdown",
   "id": "420b228e",
   "metadata": {},
   "source": [
    "### Exercise 3: Iterating Over a List\n",
    "Use a `for` loop to iterate over the `fruits` list and print each item on a new line.\n"
   ]
  },
  {
   "cell_type": "code",
   "execution_count": null,
   "id": "0c7c9a0e",
   "metadata": {},
   "outputs": [],
   "source": []
  },
  {
   "cell_type": "markdown",
   "id": "aeffe6bf",
   "metadata": {},
   "source": [
    "### Exercise 4: Using List Methods\n",
    "Modify the `fruits` list by:\n",
    "- Adding `\"orange\"` to the end of the list\n",
    "- Inserting `\"blueberry\"` at position 1\n",
    "- Removing `\"banana\"` from the list\n",
    "- Reversing the list\n",
    "- Sorting the list in ascending order\n",
    "\n",
    "Print the list after each operation to see the changes.\n"
   ]
  },
  {
   "cell_type": "code",
   "execution_count": null,
   "id": "4369963f",
   "metadata": {},
   "outputs": [],
   "source": []
  },
  {
   "cell_type": "markdown",
   "id": "80863192",
   "metadata": {},
   "source": [
    "### Exercise 5: Built-in Functions with Lists\n",
    "Use the following built-in functions with the `numbers` list:\n",
    "- `len()` to get the number of elements\n",
    "- `max()` to get the largest number\n",
    "- `min()` to get the smallest number\n",
    "- `sum()` to get the total of all numbers\n"
   ]
  },
  {
   "cell_type": "code",
   "execution_count": null,
   "id": "789cbee4",
   "metadata": {},
   "outputs": [],
   "source": []
  },
  {
   "cell_type": "markdown",
   "id": "1e660786",
   "metadata": {},
   "source": [
    "### Exercise 6: List Comprehensions\n",
    "Create new lists using list comprehensions:\n",
    "- A list of squares of numbers from 1 to 5\n",
    "- A list of even numbers from the `numbers` list\n"
   ]
  },
  {
   "cell_type": "code",
   "execution_count": null,
   "id": "ec7eca42",
   "metadata": {},
   "outputs": [],
   "source": []
  },
  {
   "cell_type": "markdown",
   "id": "ab24c300",
   "metadata": {},
   "source": [
    "### Exercise 6: Plotting with matplotlib package\n",
    "Make 3 plots using matplotlib library:\n",
    "- Line plot\n",
    "- Bar plot\n",
    "- Pie chart\n"
   ]
  },
  {
   "cell_type": "code",
   "execution_count": null,
   "id": "c946a6e2",
   "metadata": {},
   "outputs": [],
   "source": []
  }
 ],
 "metadata": {
  "kernelspec": {
   "display_name": "base",
   "language": "python",
   "name": "python3"
  },
  "language_info": {
   "codemirror_mode": {
    "name": "ipython",
    "version": 3
   },
   "file_extension": ".py",
   "mimetype": "text/x-python",
   "name": "python",
   "nbconvert_exporter": "python",
   "pygments_lexer": "ipython3",
   "version": "3.9.18"
  }
 },
 "nbformat": 4,
 "nbformat_minor": 5
}
